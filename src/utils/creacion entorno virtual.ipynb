{
 "cells": [
  {
   "cell_type": "code",
   "execution_count": 1,
   "metadata": {},
   "outputs": [
    {
     "ename": "SyntaxError",
     "evalue": "invalid syntax (3075424552.py, line 2)",
     "output_type": "error",
     "traceback": [
      "\u001b[1;36m  Cell \u001b[1;32mIn[1], line 2\u001b[1;36m\u001b[0m\n\u001b[1;33m    pip install virtualenv\u001b[0m\n\u001b[1;37m        ^\u001b[0m\n\u001b[1;31mSyntaxError\u001b[0m\u001b[1;31m:\u001b[0m invalid syntax\n"
     ]
    },
    {
     "ename": "",
     "evalue": "",
     "output_type": "error",
     "traceback": [
      "\u001b[1;31mThe Kernel crashed while executing code in the current cell or a previous cell. \n",
      "\u001b[1;31mPlease review the code in the cell(s) to identify a possible cause of the failure. \n",
      "\u001b[1;31mClick <a href='https://aka.ms/vscodeJupyterKernelCrash'>here</a> for more info. \n",
      "\u001b[1;31mView Jupyter <a href='command:jupyter.viewOutput'>log</a> for further details."
     ]
    }
   ],
   "source": [
    "#instala la biblioteca en el terminal con : pip install virtualenv\n",
    "#crea el entorno virtual en la direccion que estes trabajando\n",
    "#cd C:\\Users\\arzua\\OneDrive\\Escritorio\\preelec\\src\n",
    "#python -m venv ml_elec_1\n",
    "#activalo\n",
    "#nombre_del_entorno\\Scripts\\activate\n",
    "#ml_elec_1\\Scripts\\activate\n",
    "#activa y desactiva la ejecucion de scrips en el sitema como administrador\n",
    "#Set-ExecutionPolicy RemoteSigned -Scope CurrentUser\n",
    "#Set-ExecutionPolicy Restricted -Scope CurrentUser\n",
    "#comprueba que esta activado\n",
    "#exporta dependencias antes del entorno para saber que llevarte\n",
    "#pip freeze > requirements.txt\n",
    "\n",
    "#instala dependencias en el entornovirtual a partir de un archivo txt\n",
    "#pip install -r requirements.txt\n",
    "\n",
    "\n",
    "\n",
    "\n"
   ]
  },
  {
   "cell_type": "code",
   "execution_count": null,
   "metadata": {},
   "outputs": [],
   "source": []
  }
 ],
 "metadata": {
  "kernelspec": {
   "display_name": "base",
   "language": "python",
   "name": "python3"
  },
  "language_info": {
   "codemirror_mode": {
    "name": "ipython",
    "version": 3
   },
   "file_extension": ".py",
   "mimetype": "text/x-python",
   "name": "python",
   "nbconvert_exporter": "python",
   "pygments_lexer": "ipython3",
   "version": "3.11.7"
  }
 },
 "nbformat": 4,
 "nbformat_minor": 2
}
